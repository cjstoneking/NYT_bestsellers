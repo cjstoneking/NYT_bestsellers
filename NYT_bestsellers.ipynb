{
 "cells": [
  {
   "cell_type": "code",
   "execution_count": 1,
   "metadata": {},
   "outputs": [],
   "source": [
    "#notebook for exploring and preprocessing the NYT bestseller list dataset\n",
    "# obtained from https://www.kaggle.com/cmenca/new-york-times-hardcover-fiction-best-sellers/version/1\n",
    "# originally downloaded from NYT\n",
    "# there is a kernel associated with this dataset, I use some methods from it\n",
    "# the use of Levenshtein distance for checking integrity is my work\n",
    "\n",
    "import json\n",
    "import pandas as pd\n",
    "import numpy as np\n",
    "\n",
    "import re\n",
    "\n",
    "from string import ascii_lowercase\n",
    "from datetime import datetime\n",
    "\n",
    "import Levenshtein as lev"
   ]
  },
  {
   "cell_type": "code",
   "execution_count": null,
   "metadata": {},
   "outputs": [],
   "source": [
    "#import sys\n",
    "#!{sys.executable} -m pip install python-Levenshtein"
   ]
  },
  {
   "cell_type": "code",
   "execution_count": 2,
   "metadata": {},
   "outputs": [
    {
     "data": {
      "text/html": [
       "<div>\n",
       "<style scoped>\n",
       "    .dataframe tbody tr th:only-of-type {\n",
       "        vertical-align: middle;\n",
       "    }\n",
       "\n",
       "    .dataframe tbody tr th {\n",
       "        vertical-align: top;\n",
       "    }\n",
       "\n",
       "    .dataframe thead th {\n",
       "        text-align: right;\n",
       "    }\n",
       "</style>\n",
       "<table border=\"1\" class=\"dataframe\">\n",
       "  <thead>\n",
       "    <tr style=\"text-align: right;\">\n",
       "      <th></th>\n",
       "      <th>_id</th>\n",
       "      <th>bestsellers_date</th>\n",
       "      <th>published_date</th>\n",
       "      <th>amazon_product_url</th>\n",
       "      <th>author</th>\n",
       "      <th>description</th>\n",
       "      <th>price</th>\n",
       "      <th>publisher</th>\n",
       "      <th>title</th>\n",
       "      <th>rank</th>\n",
       "      <th>rank_last_week</th>\n",
       "      <th>weeks_on_list</th>\n",
       "    </tr>\n",
       "  </thead>\n",
       "  <tbody>\n",
       "    <tr>\n",
       "      <th>0</th>\n",
       "      <td>{'$oid': '5b4aa4ead3089013507db18b'}</td>\n",
       "      <td>{'$date': {'$numberLong': '1211587200000'}}</td>\n",
       "      <td>{'$date': {'$numberLong': '1212883200000'}}</td>\n",
       "      <td>http://www.amazon.com/Odd-Hours-Dean-Koontz/dp...</td>\n",
       "      <td>Dean R Koontz</td>\n",
       "      <td>Odd Thomas, who can communicate with the dead,...</td>\n",
       "      <td>{'$numberInt': '27'}</td>\n",
       "      <td>Bantam</td>\n",
       "      <td>ODD HOURS</td>\n",
       "      <td>{'$numberInt': '1'}</td>\n",
       "      <td>{'$numberInt': '0'}</td>\n",
       "      <td>{'$numberInt': '1'}</td>\n",
       "    </tr>\n",
       "    <tr>\n",
       "      <th>1</th>\n",
       "      <td>{'$oid': '5b4aa4ead3089013507db18c'}</td>\n",
       "      <td>{'$date': {'$numberLong': '1211587200000'}}</td>\n",
       "      <td>{'$date': {'$numberLong': '1212883200000'}}</td>\n",
       "      <td>http://www.amazon.com/The-Host-Novel-Stephenie...</td>\n",
       "      <td>Stephenie Meyer</td>\n",
       "      <td>Aliens have taken control of the minds and bod...</td>\n",
       "      <td>{'$numberDouble': '25.99'}</td>\n",
       "      <td>Little, Brown</td>\n",
       "      <td>THE HOST</td>\n",
       "      <td>{'$numberInt': '2'}</td>\n",
       "      <td>{'$numberInt': '1'}</td>\n",
       "      <td>{'$numberInt': '3'}</td>\n",
       "    </tr>\n",
       "    <tr>\n",
       "      <th>2</th>\n",
       "      <td>{'$oid': '5b4aa4ead3089013507db18d'}</td>\n",
       "      <td>{'$date': {'$numberLong': '1211587200000'}}</td>\n",
       "      <td>{'$date': {'$numberLong': '1212883200000'}}</td>\n",
       "      <td>http://www.amazon.com/Love-Youre-With-Emily-Gi...</td>\n",
       "      <td>Emily Giffin</td>\n",
       "      <td>A woman's happy marriage is shaken when she en...</td>\n",
       "      <td>{'$numberDouble': '24.95'}</td>\n",
       "      <td>St. Martin's</td>\n",
       "      <td>LOVE THE ONE YOU'RE WITH</td>\n",
       "      <td>{'$numberInt': '3'}</td>\n",
       "      <td>{'$numberInt': '2'}</td>\n",
       "      <td>{'$numberInt': '2'}</td>\n",
       "    </tr>\n",
       "    <tr>\n",
       "      <th>3</th>\n",
       "      <td>{'$oid': '5b4aa4ead3089013507db18e'}</td>\n",
       "      <td>{'$date': {'$numberLong': '1211587200000'}}</td>\n",
       "      <td>{'$date': {'$numberLong': '1212883200000'}}</td>\n",
       "      <td>http://www.amazon.com/The-Front-Garano-Patrici...</td>\n",
       "      <td>Patricia Cornwell</td>\n",
       "      <td>A Massachusetts state investigator and his tea...</td>\n",
       "      <td>{'$numberDouble': '22.95'}</td>\n",
       "      <td>Putnam</td>\n",
       "      <td>THE FRONT</td>\n",
       "      <td>{'$numberInt': '4'}</td>\n",
       "      <td>{'$numberInt': '0'}</td>\n",
       "      <td>{'$numberInt': '1'}</td>\n",
       "    </tr>\n",
       "    <tr>\n",
       "      <th>4</th>\n",
       "      <td>{'$oid': '5b4aa4ead3089013507db18f'}</td>\n",
       "      <td>{'$date': {'$numberLong': '1211587200000'}}</td>\n",
       "      <td>{'$date': {'$numberLong': '1212883200000'}}</td>\n",
       "      <td>http://www.amazon.com/Snuff-Chuck-Palahniuk/dp...</td>\n",
       "      <td>Chuck Palahniuk</td>\n",
       "      <td>An aging porn queens aims to cap her career by...</td>\n",
       "      <td>{'$numberDouble': '24.95'}</td>\n",
       "      <td>Doubleday</td>\n",
       "      <td>SNUFF</td>\n",
       "      <td>{'$numberInt': '5'}</td>\n",
       "      <td>{'$numberInt': '0'}</td>\n",
       "      <td>{'$numberInt': '1'}</td>\n",
       "    </tr>\n",
       "  </tbody>\n",
       "</table>\n",
       "</div>"
      ],
      "text/plain": [
       "                                    _id  \\\n",
       "0  {'$oid': '5b4aa4ead3089013507db18b'}   \n",
       "1  {'$oid': '5b4aa4ead3089013507db18c'}   \n",
       "2  {'$oid': '5b4aa4ead3089013507db18d'}   \n",
       "3  {'$oid': '5b4aa4ead3089013507db18e'}   \n",
       "4  {'$oid': '5b4aa4ead3089013507db18f'}   \n",
       "\n",
       "                              bestsellers_date  \\\n",
       "0  {'$date': {'$numberLong': '1211587200000'}}   \n",
       "1  {'$date': {'$numberLong': '1211587200000'}}   \n",
       "2  {'$date': {'$numberLong': '1211587200000'}}   \n",
       "3  {'$date': {'$numberLong': '1211587200000'}}   \n",
       "4  {'$date': {'$numberLong': '1211587200000'}}   \n",
       "\n",
       "                                published_date  \\\n",
       "0  {'$date': {'$numberLong': '1212883200000'}}   \n",
       "1  {'$date': {'$numberLong': '1212883200000'}}   \n",
       "2  {'$date': {'$numberLong': '1212883200000'}}   \n",
       "3  {'$date': {'$numberLong': '1212883200000'}}   \n",
       "4  {'$date': {'$numberLong': '1212883200000'}}   \n",
       "\n",
       "                                  amazon_product_url             author  \\\n",
       "0  http://www.amazon.com/Odd-Hours-Dean-Koontz/dp...      Dean R Koontz   \n",
       "1  http://www.amazon.com/The-Host-Novel-Stephenie...    Stephenie Meyer   \n",
       "2  http://www.amazon.com/Love-Youre-With-Emily-Gi...       Emily Giffin   \n",
       "3  http://www.amazon.com/The-Front-Garano-Patrici...  Patricia Cornwell   \n",
       "4  http://www.amazon.com/Snuff-Chuck-Palahniuk/dp...    Chuck Palahniuk   \n",
       "\n",
       "                                         description  \\\n",
       "0  Odd Thomas, who can communicate with the dead,...   \n",
       "1  Aliens have taken control of the minds and bod...   \n",
       "2  A woman's happy marriage is shaken when she en...   \n",
       "3  A Massachusetts state investigator and his tea...   \n",
       "4  An aging porn queens aims to cap her career by...   \n",
       "\n",
       "                        price      publisher                     title  \\\n",
       "0        {'$numberInt': '27'}         Bantam                 ODD HOURS   \n",
       "1  {'$numberDouble': '25.99'}  Little, Brown                  THE HOST   \n",
       "2  {'$numberDouble': '24.95'}   St. Martin's  LOVE THE ONE YOU'RE WITH   \n",
       "3  {'$numberDouble': '22.95'}         Putnam                 THE FRONT   \n",
       "4  {'$numberDouble': '24.95'}      Doubleday                     SNUFF   \n",
       "\n",
       "                  rank       rank_last_week        weeks_on_list  \n",
       "0  {'$numberInt': '1'}  {'$numberInt': '0'}  {'$numberInt': '1'}  \n",
       "1  {'$numberInt': '2'}  {'$numberInt': '1'}  {'$numberInt': '3'}  \n",
       "2  {'$numberInt': '3'}  {'$numberInt': '2'}  {'$numberInt': '2'}  \n",
       "3  {'$numberInt': '4'}  {'$numberInt': '0'}  {'$numberInt': '1'}  \n",
       "4  {'$numberInt': '5'}  {'$numberInt': '0'}  {'$numberInt': '1'}  "
      ]
     },
     "execution_count": 2,
     "metadata": {},
     "output_type": "execute_result"
    }
   ],
   "source": [
    "file = 'nyt2.json'\n",
    "nyt_best = pd.read_json(file, lines=True, orient='columns')\n",
    "nyt_best.head()"
   ]
  },
  {
   "cell_type": "code",
   "execution_count": 3,
   "metadata": {},
   "outputs": [],
   "source": [
    "#following is from kaggle kernel\n",
    "# https://www.kaggle.com/tobaotic/clean-data\n",
    "\n",
    "\n",
    "\n",
    "#convert string to lowercase and replace all non alphanumeric characters\n",
    "def get_lc_values(v):\n",
    "    regex = re.compile('[^a-z0-9]')\n",
    "    lc_values = []\n",
    "    for x in v:\n",
    "        #this strips away all whitespace and makes everything lowercase\n",
    "        lc_values.append(regex.sub('', x.lower()))\n",
    "\n",
    "    return lc_values\n",
    "\n",
    "\n",
    "\n",
    "def flatten_json(y):\n",
    "    # extract values from json string in dataframe\n",
    "    \n",
    "    out = {}\n",
    "    ret_val = '-'\n",
    "    \n",
    "    def flatten(x, name=''):\n",
    "        if type(x) is dict:\n",
    "            for a in x:\n",
    "                flatten(x[a], name + a + '_')\n",
    "        elif type(x) is list:\n",
    "            i = 0\n",
    "            for a in x:\n",
    "                flatten(a, name + str(i) + '_')\n",
    "                i += 1\n",
    "        elif type(x) is str:\n",
    "            out[name[:-1]] = x\n",
    "\n",
    "\n",
    "    flatten(y)\n",
    "\n",
    "    if type(out) is dict:\n",
    "        for v in out:\n",
    "            ret_val = out[v]\n",
    "    \n",
    "    return ret_val\n"
   ]
  },
  {
   "cell_type": "code",
   "execution_count": 4,
   "metadata": {},
   "outputs": [
    {
     "data": {
      "text/html": [
       "<div>\n",
       "<style scoped>\n",
       "    .dataframe tbody tr th:only-of-type {\n",
       "        vertical-align: middle;\n",
       "    }\n",
       "\n",
       "    .dataframe tbody tr th {\n",
       "        vertical-align: top;\n",
       "    }\n",
       "\n",
       "    .dataframe thead th {\n",
       "        text-align: right;\n",
       "    }\n",
       "</style>\n",
       "<table border=\"1\" class=\"dataframe\">\n",
       "  <thead>\n",
       "    <tr style=\"text-align: right;\">\n",
       "      <th></th>\n",
       "      <th>_id</th>\n",
       "      <th>bestsellers_date</th>\n",
       "      <th>published_date</th>\n",
       "      <th>amazon_product_url</th>\n",
       "      <th>author</th>\n",
       "      <th>description</th>\n",
       "      <th>price</th>\n",
       "      <th>publisher</th>\n",
       "      <th>title</th>\n",
       "      <th>rank</th>\n",
       "      <th>rank_last_week</th>\n",
       "      <th>weeks_on_list</th>\n",
       "    </tr>\n",
       "  </thead>\n",
       "  <tbody>\n",
       "    <tr>\n",
       "      <th>0</th>\n",
       "      <td>5b4aa4ead3089013507db18b</td>\n",
       "      <td>2008-05-24</td>\n",
       "      <td>2008-06-08</td>\n",
       "      <td>http://www.amazon.com/Odd-Hours-Dean-Koontz/dp...</td>\n",
       "      <td>Dean R Koontz</td>\n",
       "      <td>Odd Thomas, who can communicate with the dead,...</td>\n",
       "      <td>27</td>\n",
       "      <td>Bantam</td>\n",
       "      <td>ODD HOURS</td>\n",
       "      <td>1</td>\n",
       "      <td>0</td>\n",
       "      <td>1</td>\n",
       "    </tr>\n",
       "    <tr>\n",
       "      <th>1</th>\n",
       "      <td>5b4aa4ead3089013507db18c</td>\n",
       "      <td>2008-05-24</td>\n",
       "      <td>2008-06-08</td>\n",
       "      <td>http://www.amazon.com/The-Host-Novel-Stephenie...</td>\n",
       "      <td>Stephenie Meyer</td>\n",
       "      <td>Aliens have taken control of the minds and bod...</td>\n",
       "      <td>25.99</td>\n",
       "      <td>Little, Brown</td>\n",
       "      <td>THE HOST</td>\n",
       "      <td>2</td>\n",
       "      <td>1</td>\n",
       "      <td>3</td>\n",
       "    </tr>\n",
       "    <tr>\n",
       "      <th>2</th>\n",
       "      <td>5b4aa4ead3089013507db18d</td>\n",
       "      <td>2008-05-24</td>\n",
       "      <td>2008-06-08</td>\n",
       "      <td>http://www.amazon.com/Love-Youre-With-Emily-Gi...</td>\n",
       "      <td>Emily Giffin</td>\n",
       "      <td>A woman's happy marriage is shaken when she en...</td>\n",
       "      <td>24.95</td>\n",
       "      <td>St. Martin's</td>\n",
       "      <td>LOVE THE ONE YOU'RE WITH</td>\n",
       "      <td>3</td>\n",
       "      <td>2</td>\n",
       "      <td>2</td>\n",
       "    </tr>\n",
       "    <tr>\n",
       "      <th>3</th>\n",
       "      <td>5b4aa4ead3089013507db18e</td>\n",
       "      <td>2008-05-24</td>\n",
       "      <td>2008-06-08</td>\n",
       "      <td>http://www.amazon.com/The-Front-Garano-Patrici...</td>\n",
       "      <td>Patricia Cornwell</td>\n",
       "      <td>A Massachusetts state investigator and his tea...</td>\n",
       "      <td>22.95</td>\n",
       "      <td>Putnam</td>\n",
       "      <td>THE FRONT</td>\n",
       "      <td>4</td>\n",
       "      <td>0</td>\n",
       "      <td>1</td>\n",
       "    </tr>\n",
       "    <tr>\n",
       "      <th>4</th>\n",
       "      <td>5b4aa4ead3089013507db18f</td>\n",
       "      <td>2008-05-24</td>\n",
       "      <td>2008-06-08</td>\n",
       "      <td>http://www.amazon.com/Snuff-Chuck-Palahniuk/dp...</td>\n",
       "      <td>Chuck Palahniuk</td>\n",
       "      <td>An aging porn queens aims to cap her career by...</td>\n",
       "      <td>24.95</td>\n",
       "      <td>Doubleday</td>\n",
       "      <td>SNUFF</td>\n",
       "      <td>5</td>\n",
       "      <td>0</td>\n",
       "      <td>1</td>\n",
       "    </tr>\n",
       "  </tbody>\n",
       "</table>\n",
       "</div>"
      ],
      "text/plain": [
       "                        _id bestsellers_date published_date  \\\n",
       "0  5b4aa4ead3089013507db18b       2008-05-24     2008-06-08   \n",
       "1  5b4aa4ead3089013507db18c       2008-05-24     2008-06-08   \n",
       "2  5b4aa4ead3089013507db18d       2008-05-24     2008-06-08   \n",
       "3  5b4aa4ead3089013507db18e       2008-05-24     2008-06-08   \n",
       "4  5b4aa4ead3089013507db18f       2008-05-24     2008-06-08   \n",
       "\n",
       "                                  amazon_product_url             author  \\\n",
       "0  http://www.amazon.com/Odd-Hours-Dean-Koontz/dp...      Dean R Koontz   \n",
       "1  http://www.amazon.com/The-Host-Novel-Stephenie...    Stephenie Meyer   \n",
       "2  http://www.amazon.com/Love-Youre-With-Emily-Gi...       Emily Giffin   \n",
       "3  http://www.amazon.com/The-Front-Garano-Patrici...  Patricia Cornwell   \n",
       "4  http://www.amazon.com/Snuff-Chuck-Palahniuk/dp...    Chuck Palahniuk   \n",
       "\n",
       "                                         description  price      publisher  \\\n",
       "0  Odd Thomas, who can communicate with the dead,...     27         Bantam   \n",
       "1  Aliens have taken control of the minds and bod...  25.99  Little, Brown   \n",
       "2  A woman's happy marriage is shaken when she en...  24.95   St. Martin's   \n",
       "3  A Massachusetts state investigator and his tea...  22.95         Putnam   \n",
       "4  An aging porn queens aims to cap her career by...  24.95      Doubleday   \n",
       "\n",
       "                      title rank rank_last_week weeks_on_list  \n",
       "0                 ODD HOURS    1              0             1  \n",
       "1                  THE HOST    2              1             3  \n",
       "2  LOVE THE ONE YOU'RE WITH    3              2             2  \n",
       "3                 THE FRONT    4              0             1  \n",
       "4                     SNUFF    5              0             1  "
      ]
     },
     "execution_count": 4,
     "metadata": {},
     "output_type": "execute_result"
    }
   ],
   "source": [
    "#also from kernel\n",
    "\n",
    "for i in range(len(nyt_best)):\n",
    "    nyt_best.loc[i][\"_id\"] = flatten_json(nyt_best.loc[i][\"_id\"])\n",
    "    nyt_best.loc[i][\"bestsellers_date\"] = datetime.fromtimestamp(int(flatten_json(nyt_best.loc[i][\"bestsellers_date\"])[:10])).strftime('%Y-%m-%d')\n",
    "    nyt_best.loc[i][\"price\"] = flatten_json(nyt_best.loc[i][\"price\"])\n",
    "    nyt_best.loc[i][\"published_date\"] = datetime.fromtimestamp(int(flatten_json(nyt_best.loc[i][\"published_date\"])[:10])).strftime('%Y-%m-%d')\n",
    "    nyt_best.loc[i][\"rank\"] = flatten_json(nyt_best.loc[i][\"rank\"])\n",
    "    nyt_best.loc[i][\"rank_last_week\"] = flatten_json(nyt_best.loc[i][\"rank_last_week\"])\n",
    "    nyt_best.loc[i][\"title\"] = flatten_json(nyt_best.loc[i][\"title\"]) \n",
    "    nyt_best.loc[i][\"weeks_on_list\"] = flatten_json(nyt_best.loc[i][\"weeks_on_list\"])     \n",
    "    \n",
    "nyt_best.head()"
   ]
  },
  {
   "cell_type": "code",
   "execution_count": 5,
   "metadata": {},
   "outputs": [],
   "source": [
    "#following is mine (CJS)\n",
    "#do some cleaning and integrity checking\n",
    "#to deal with typos and variant spellings\n",
    "\n",
    "#functions for cleaning string-valued columns in dataframes\n",
    "#for situations where there is a small set of valid strings\n",
    "# e.g. business names, countries...\n",
    "#and the strings have to belong to that set\n",
    "#but there could be typos / alternate spellings\n",
    "#approach:\n",
    "# 1. get_matches(...) -> find set of very similar strings using Levenshtein distance\n",
    "# 2. print and inspect list of matches\n",
    "# 3. replace_matches(..., checked_matches) -> replace the minority value of each match with majority value\n",
    "\n",
    "def get_matches(df, colname, levenshtein_cutoff):\n",
    "    matches = []\n",
    "    unique_vals = df[colname].unique()\n",
    "    for i, u in enumerate(unique_vals):\n",
    "        for j, v in enumerate(unique_vals):\n",
    "            if(i <= j): continue\n",
    "            if(lev.distance(u, v)/max(len(u), len(v)) < levenshtein_cutoff):\n",
    "                matches.append((u, v))\n",
    "    return matches\n",
    "\n",
    "def replace_matches(df, colname, matches):\n",
    "    replacements = []\n",
    "    temp_list = list(zip(*matches))\n",
    "    all_match_vals = temp_list[0] + temp_list[1]\n",
    "    unique_vals = np.unique(all_match_vals)\n",
    "    counts = np.array([np.sum(df[colname]==v) for v in unique_vals])\n",
    "    order = np.argsort(counts)[::-1]\n",
    "    for ind in order:\n",
    "        u = unique_vals[ind]\n",
    "        to_remove = []\n",
    "        for m in matches:\n",
    "            if(u in m):\n",
    "                other = [v for v in m if v!=u][0]\n",
    "                replacements.append((other, u)) #replace <other> with u\n",
    "                to_remove.append(m)\n",
    "        #remove at end to avoid errors due to index shift\n",
    "        for t in to_remove:\n",
    "            matches.remove(t)\n",
    "        #actually perform replacements here\n",
    "        for r in replacements:\n",
    "            df.loc[df[colname]==r[0], colname] = r[1]\n"
   ]
  },
  {
   "cell_type": "code",
   "execution_count": 6,
   "metadata": {},
   "outputs": [
    {
     "name": "stdout",
     "output_type": "stream",
     "text": [
      "('Dean Koontz', 'Dean R Koontz')\n",
      "('Christopher Moore', 'Christopher Reich')\n",
      "('Clive Cussler and Jack Du Brul', 'Clive Cussler with Jack Du Brul')\n",
      "('Carol Higgins Clark', 'Mary Higgins Clark')\n",
      "('Elizabeth Berg', 'Elizabeth George')\n",
      "('Elizabeth Berg', 'Elizabeth Peters')\n",
      "('WEB Griffin and William E Butterworth IV', 'W E B Griffin and William E Butterworth IV')\n",
      "('Anne Rice', 'Luanne Rice')\n",
      "('J R Ward', 'JR Ward')\n",
      "('Dale Brown', 'Dan Brown')\n",
      "('Stephen White', 'Stephen Hunter')\n",
      "('Steve Martin', 'Steve Martini')\n",
      "('JA Jance', 'J A Jance')\n",
      "('Christopher Bohjalian', 'Chris Bohjalian')\n",
      "('Robert Harris', 'Robert Crais')\n",
      "('James Patterson and Mark Sullivan', 'James Patterson and Howard Roughan')\n",
      "('James Patterson and Mark Sullivan', 'James Patterson and Marshall Karp')\n",
      "('James Patterson and David Ellis', 'James Patterson and Mark Sullivan')\n",
      "('Rita Mae Brown and Sneaky Pie Brown', 'Rita Mae Brown & Sneaky Pie Brown')\n",
      "('Carlos Ruiz Zafon', 'Carlos Ruiz Zafón')\n",
      "('James Wesley Rawles', 'James Wesley, Rawles')\n",
      "('John le Carre', 'John le Carré')\n",
      "('Jo Nesbø', 'Jo Nesbo')\n",
      "('C  J Box', 'C J Box')\n",
      "('Elizabeth Gilbert', 'Elizabeth Peters')\n",
      "('Elizabeth Gilbert', 'Elizabeth Berg')\n",
      "('James Patterson and Emily Raymond', 'James Patterson and Liza Marklund')\n",
      "('James Patterson and Emily Raymond', 'James Patterson and Neil McMahon')\n",
      "('Brad Taylor', 'Brad Thor')\n",
      "('Catherine Coulter and J T Ellison', 'Catherine Coulter and JT Ellison')\n",
      "('Erika Johansen', 'Iris Johansen')\n",
      "('Jim Harrison', 'Kim Harrison')\n",
      "('Stephanie Danler', 'Stephanie Laurens')\n",
      "('Annie Proulx', 'E Annie Proulx')\n",
      "('WEB Griffin and William E Butterworth', 'W E B Griffin and William E Butterworth IV')\n",
      "('WEB Griffin and William E Butterworth', 'WEB Griffin and William E Butterworth IV')\n",
      "('JRR Tolkien', 'J R R Tolkien')\n",
      "('JD Robb', 'J D Robb')\n",
      "('James Patterson and James O Born', 'James Patterson and Peter De Jonge')\n",
      "('James Patterson and James O Born', 'James Patterson and Candice Fox')\n",
      "('CJ Box', 'C J Box')\n",
      "('CJ Box', 'C  J Box')\n",
      "('Richard Powers', 'Richard Ford')\n",
      "('Jake Tapper', 'Jane Harper')\n",
      "('Katherine Center', 'Catherine Coulter')\n",
      "('BA Paris', 'B A Paris')\n"
     ]
    }
   ],
   "source": [
    "#try to find author names that are very similar - likely typos or variant spellings\n",
    "# try levenshtein distance of 0.3, turns out this is too permissive\n",
    "m = get_matches(nyt_best, \"author\", 0.3)\n",
    "for t in m: print(t)\n"
   ]
  },
  {
   "cell_type": "code",
   "execution_count": 7,
   "metadata": {},
   "outputs": [
    {
     "name": "stdout",
     "output_type": "stream",
     "text": [
      "('Clive Cussler and Jack Du Brul', 'Clive Cussler with Jack Du Brul')\n",
      "('WEB Griffin and William E Butterworth IV', 'W E B Griffin and William E Butterworth IV')\n",
      "('J R Ward', 'JR Ward')\n",
      "('Steve Martin', 'Steve Martini')\n",
      "('JA Jance', 'J A Jance')\n",
      "('Rita Mae Brown and Sneaky Pie Brown', 'Rita Mae Brown & Sneaky Pie Brown')\n",
      "('Carlos Ruiz Zafon', 'Carlos Ruiz Zafón')\n",
      "('James Wesley Rawles', 'James Wesley, Rawles')\n",
      "('John le Carre', 'John le Carré')\n",
      "('Jo Nesbø', 'Jo Nesbo')\n",
      "('C  J Box', 'C J Box')\n",
      "('Catherine Coulter and J T Ellison', 'Catherine Coulter and JT Ellison')\n",
      "('Jim Harrison', 'Kim Harrison')\n",
      "('Annie Proulx', 'E Annie Proulx')\n",
      "('WEB Griffin and William E Butterworth', 'W E B Griffin and William E Butterworth IV')\n",
      "('WEB Griffin and William E Butterworth', 'WEB Griffin and William E Butterworth IV')\n",
      "('JD Robb', 'J D Robb')\n",
      "('CJ Box', 'C J Box')\n",
      "('BA Paris', 'B A Paris')\n"
     ]
    }
   ],
   "source": [
    "#smaller distance -> fewer false positives\n",
    "m = get_matches(nyt_best, \"author\", 0.15)\n",
    "for t in m: print(t)"
   ]
  },
  {
   "cell_type": "code",
   "execution_count": 8,
   "metadata": {},
   "outputs": [],
   "source": [
    "#author name matches seem all OK except for 2\n",
    "m.remove(('Jim Harrison', 'Kim Harrison'))\n",
    "m.remove(('Steve Martin', 'Steve Martini'))"
   ]
  },
  {
   "cell_type": "code",
   "execution_count": 9,
   "metadata": {},
   "outputs": [],
   "source": [
    "#now replace the matches\n",
    "replace_matches(nyt_best, 'author', m)"
   ]
  },
  {
   "cell_type": "code",
   "execution_count": 10,
   "metadata": {},
   "outputs": [
    {
     "name": "stdout",
     "output_type": "stream",
     "text": [
      "('Steve Martin', 'Steve Martini')\n",
      "('Jim Harrison', 'Kim Harrison')\n"
     ]
    }
   ],
   "source": [
    "#check that this worked:\n",
    "m = get_matches(nyt_best, \"author\", 0.15)\n",
    "for t in m: print(t)"
   ]
  },
  {
   "cell_type": "code",
   "execution_count": 11,
   "metadata": {},
   "outputs": [],
   "source": [
    "#these are precisely the two similar names we did not want to replace\n",
    "#all the other cases are gone\n",
    "#so everything worked"
   ]
  },
  {
   "cell_type": "code",
   "execution_count": 19,
   "metadata": {},
   "outputs": [
    {
     "name": "stdout",
     "output_type": "stream",
     "text": [
      "[('C  J Box', 'C J Box')]\n",
      "[('C  J Box', 'C J Box')]\n"
     ]
    }
   ],
   "source": [
    "test_matches = [('C  J Box', 'C J Box')]\n",
    "replace_matches(nyt_best, 'author', test_matches)"
   ]
  },
  {
   "cell_type": "code",
   "execution_count": null,
   "metadata": {},
   "outputs": [],
   "source": [
    "nyt_best.loc[nyt_best['author']]"
   ]
  },
  {
   "cell_type": "code",
   "execution_count": null,
   "metadata": {},
   "outputs": [],
   "source": [
    "for t in m: print(t)"
   ]
  },
  {
   "cell_type": "code",
   "execution_count": null,
   "metadata": {},
   "outputs": [],
   "source": [
    "#start check\n",
    "m = get_matches(nyt_best, \"publisher\", 0.3)\n",
    "for t in m: print(t)"
   ]
  },
  {
   "cell_type": "code",
   "execution_count": null,
   "metadata": {},
   "outputs": [],
   "source": [
    "# from kaggle kernel\n",
    "# add three new columns only with alphanumeric values for comparision and spellcheck detection\n",
    "\n",
    "raw_books['l_author'] = set_lc_values('author')\n",
    "raw_books['l_publisher'] = set_lc_values('publisher')\n",
    "raw_books['l_title'] = set_lc_values('title')\n",
    "\n",
    "raw_books.head()\n",
    "\n"
   ]
  },
  {
   "cell_type": "code",
   "execution_count": null,
   "metadata": {},
   "outputs": [],
   "source": [
    "# following is my work\n",
    "#any given title may appear multiple times\n",
    "#because it was in multiple weekly bestseller lists\n",
    "#also, some books may have the same title\n",
    "# here is an example showing both phenomena:\n",
    "\n",
    "raw_books.loc[raw_books['title']==\"SNUFF\",:]\n"
   ]
  },
  {
   "cell_type": "code",
   "execution_count": null,
   "metadata": {},
   "outputs": [],
   "source": [
    "#we want to find all unique books and assign each an ID\n",
    "# bookID = <lc author>_<lc title> \n",
    "\n",
    "raw_books['book_ID'] = raw_books['l_author'] + '_' + raw_books['l_title']"
   ]
  },
  {
   "cell_type": "code",
   "execution_count": null,
   "metadata": {},
   "outputs": [],
   "source": [
    "print(len(raw_books['book_ID'].unique()))"
   ]
  },
  {
   "cell_type": "code",
   "execution_count": null,
   "metadata": {},
   "outputs": [],
   "source": [
    "ls = [(1,2), (2, 'a')]\n",
    "x = ls[1]\n",
    "ls.remove(x)\n",
    "ls"
   ]
  },
  {
   "cell_type": "code",
   "execution_count": null,
   "metadata": {},
   "outputs": [],
   "source": [
    "#check for IDs that are similar\n",
    "#because these may be spurious duplications from the same book\n",
    "#that arise due to typo\n",
    "possible_matches = []\n",
    "book_ID_groups = raw_books.groupby('book_ID')\n",
    "for i, (ID1, fields1) in enumerate(book_ID_groups):\n",
    "    for j, (ID2, fields2) in enumerate(book_ID_groups):\n",
    "        if(j <= i): continue\n",
    "        if(lev.distance(ID1, ID2)/max(len(ID1), len(ID2)) < 0.1):\n",
    "            print(\"Possible match:\")\n",
    "            print(ID1)\n",
    "            print(ID2)\n",
    "            possible_matches.append((ID1, ID2))\n",
    "    print(\"Finished checking \"+ID1)\n",
    "print(\"Finished checking all IDs\")"
   ]
  },
  {
   "cell_type": "code",
   "execution_count": null,
   "metadata": {},
   "outputs": [],
   "source": [
    "#can hand-curate possible matches here...\n",
    "\n",
    "for (ID1, ID2) in possible_matches:\n",
    "    (n1, n2) = (np.sum(raw_books['book_ID']==ID) for ID in (ID1, ID2))\n",
    "    if(n1 > n2): raw_books.loc[raw_books['book_ID']==ID2, 'book_ID'] = ID1\n",
    "           else: raw_books.loc[raw_books['book_ID']==ID1, 'book_ID'] = ID2"
   ]
  },
  {
   "cell_type": "code",
   "execution_count": null,
   "metadata": {},
   "outputs": [],
   "source": [
    "#now we have hopefully gathered the correct set of entries under the correct book_ID\n"
   ]
  },
  {
   "cell_type": "code",
   "execution_count": null,
   "metadata": {},
   "outputs": [],
   "source": [
    "np.array([3,2]).shape"
   ]
  },
  {
   "cell_type": "code",
   "execution_count": null,
   "metadata": {},
   "outputs": [],
   "source": [
    "def get_majority_string(ls):\n",
    "    u = np.unique(ls)\n",
    "    if(len(u)==1): return u[0]\n",
    "    else: \n",
    "        counts = np.array([np.sum(np.array([s==v for s in ls])) for v in u])\n",
    "        ind = np.argmax(counts)\n",
    "        if(len(ind.shape)==0): return u[ind] #if ind is a scalar\n",
    "        else: return u[ind[0]]"
   ]
  },
  {
   "cell_type": "code",
   "execution_count": null,
   "metadata": {},
   "outputs": [],
   "source": [
    "#do integrity checking on publishers\n",
    "unique_publishers = raw_books['publisher'].unique()\n",
    "possible_matches = []\n",
    "for i, p1 in enumerate(unique_publishers):\n",
    "    for j, p2 in enumerate(unique_publishers):\n",
    "        if(i <= j): continue\n",
    "        if(lev.distance(p1, p2)/max(len(p1), len(p2)) < 0.15):\n",
    "            print(\"Possible match:\")\n",
    "            print(p1)\n",
    "            print(p2)\n",
    "            possible_matches.append((p1, p2))"
   ]
  },
  {
   "cell_type": "code",
   "execution_count": null,
   "metadata": {},
   "outputs": [],
   "source": [
    "#replace with majority\n",
    "#go through publishers in order of size (number of records)\n",
    "#and take all matches\n",
    "replacements = []\n",
    "publisher_counts = np.array([np.sum(raw_books[\"publisher\"]==p) for p in unique_publishers])\n",
    "order = np.argsort(publisher_counts)\n",
    "for ind in order:\n",
    "    p1 = unique_publishers[ind]\n",
    "    to_remove = []\n",
    "    for t in possible_matches:\n",
    "        if(p1 in t):\n",
    "            other = [u for u in t if u!=p1]\n",
    "            replacements.append((other, p1))\n",
    "            to_remove.append((other, p1))\n",
    "    for t in to_remove:\n",
    "        possible_matches.remove(t)\n",
    "#actually perform replacements here\n",
    "for t in replacements:\n",
    "    raw_books.loc[raw_books['publisher']==t[0], 'publisher'] = t[1]\n",
    "    "
   ]
  },
  {
   "cell_type": "code",
   "execution_count": null,
   "metadata": {},
   "outputs": [],
   "source": [
    "get_majority_string(['stuff', 'x', 'stuff', 'y', 'x', 'x'])"
   ]
  },
  {
   "cell_type": "code",
   "execution_count": null,
   "metadata": {},
   "outputs": [],
   "source": [
    "print('Total number of titles: %s' % (len(raw_books['title'].unique())))\n",
    "print('Total number of clean titles: %s' % (len(raw_books['l_title'].unique())))"
   ]
  },
  {
   "cell_type": "code",
   "execution_count": null,
   "metadata": {},
   "outputs": [],
   "source": [
    "raw_books.head()"
   ]
  },
  {
   "cell_type": "code",
   "execution_count": null,
   "metadata": {},
   "outputs": [],
   "source": [
    "for gi in g: print(gi)"
   ]
  },
  {
   "cell_type": "code",
   "execution_count": null,
   "metadata": {},
   "outputs": [],
   "source": [
    "print(raw_books['title'].unique())\n",
    "print(raw_books['l_title'].unique())"
   ]
  },
  {
   "cell_type": "code",
   "execution_count": null,
   "metadata": {},
   "outputs": [],
   "source": [
    "#find just one clean lower title in data that has two different real titles\n",
    "\n",
    "spec_title = raw_books.groupby(['l_title', 'title'])\n",
    "\n",
    "doubleTitle = ''\n",
    "for name, group in spec_title:\n",
    "    if doubleTitle == name[0]:\n",
    "        print('lower title: %s' % (name[0]))\n",
    "    doubleTitle = name[0]\n",
    "    \n"
   ]
  },
  {
   "cell_type": "code",
   "execution_count": null,
   "metadata": {},
   "outputs": [],
   "source": [
    "#find real titles based on single lower case title\n",
    "filter_titles = raw_books[(raw_books['l_title'] == 'crossfire')].title.unique()\n",
    "for t in filter_titles:\n",
    "    print(raw_books[(raw_books['title'] == t)][['author', 'publisher', 'title']].reset_index(drop=True)[:1])"
   ]
  },
  {
   "cell_type": "code",
   "execution_count": null,
   "metadata": {},
   "outputs": [],
   "source": [
    "#so we can conclude that title is clean, there is one case where lc stripped version is the same"
   ]
  },
  {
   "cell_type": "code",
   "execution_count": null,
   "metadata": {},
   "outputs": [],
   "source": [
    "print('Total number of authors: %s' % (len(raw_books['author'].unique())))\n",
    "print('Total number of clean authors: %s' % (len(raw_books['l_author'].unique())))"
   ]
  },
  {
   "cell_type": "code",
   "execution_count": null,
   "metadata": {},
   "outputs": [],
   "source": [
    "spec_author = raw_books.groupby(['l_author', 'author'])\n",
    "\n",
    "double_author = ''\n",
    "for name, group in spec_author:\n",
    "    if double_author == name[0]:\n",
    "        print('lower author: %s' % (name[0]))\n",
    "    double_author = name[0]"
   ]
  },
  {
   "cell_type": "code",
   "execution_count": null,
   "metadata": {},
   "outputs": [],
   "source": [
    "#find real author name based on single lower case author name\n",
    "filter_auth_col = raw_books[(raw_books['l_author'] == 'baparis')].author.unique()\n",
    "for t in filter_auth_col:\n",
    "    print(raw_books[(raw_books['author'] == t)][['author', 'publisher', 'title']].reset_index(drop=True)[:1])"
   ]
  },
  {
   "cell_type": "code",
   "execution_count": null,
   "metadata": {},
   "outputs": [],
   "source": [
    "\n",
    "print('Total number of publisher names: %s' % (len(raw_books['publisher'].unique())))\n",
    "print('Total number of clean publisher names: %s' % (len(raw_books['l_publisher'].unique())))"
   ]
  },
  {
   "cell_type": "code",
   "execution_count": null,
   "metadata": {},
   "outputs": [],
   "source": [
    "spec_publisher = raw_books.groupby(['l_publisher', 'publisher'])\n",
    "\n",
    "double_publisher = ''\n",
    "for name,group in spec_publisher:\n",
    "    if double_publisher == name[0]:\n",
    "        print(name[0])\n",
    "    double_publisher = name[0]\n"
   ]
  },
  {
   "cell_type": "code",
   "execution_count": null,
   "metadata": {},
   "outputs": [],
   "source": [
    "\n",
    "\n",
    "filter_auth_col = raw_books[(raw_books['l_publisher'] == 'stmartins')].publisher.unique()\n",
    "for t in filter_auth_col:\n",
    "    print(raw_books[(raw_books['publisher'] == t)][['publisher']].reset_index(drop=True)[:1])\n",
    "\n"
   ]
  }
 ],
 "metadata": {
  "hide_input": false,
  "kernelspec": {
   "display_name": "Python 3",
   "language": "python",
   "name": "python3"
  },
  "language_info": {
   "codemirror_mode": {
    "name": "ipython",
    "version": 3
   },
   "file_extension": ".py",
   "mimetype": "text/x-python",
   "name": "python",
   "nbconvert_exporter": "python",
   "pygments_lexer": "ipython3",
   "version": "3.7.0"
  }
 },
 "nbformat": 4,
 "nbformat_minor": 2
}
